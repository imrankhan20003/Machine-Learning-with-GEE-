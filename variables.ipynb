{
  "nbformat": 4,
  "nbformat_minor": 0,
  "metadata": {
    "colab": {
      "provenance": [],
      "authorship_tag": "ABX9TyMZoXPhjgF6oA3TrMqKviRF",
      "include_colab_link": true
    },
    "kernelspec": {
      "name": "python3",
      "display_name": "Python 3"
    },
    "language_info": {
      "name": "python"
    }
  },
  "cells": [
    {
      "cell_type": "markdown",
      "metadata": {
        "id": "view-in-github",
        "colab_type": "text"
      },
      "source": [
        "<a href=\"https://colab.research.google.com/github/imrankhan20003/Machine-Learning-with-GEE-/blob/main/variables.ipynb\" target=\"_parent\"><img src=\"https://colab.research.google.com/assets/colab-badge.svg\" alt=\"Open In Colab\"/></a>"
      ]
    },
    {
      "cell_type": "code",
      "execution_count": 1,
      "metadata": {
        "id": "dT9MHomehN9f"
      },
      "outputs": [],
      "source": [
        "num_points=0"
      ]
    },
    {
      "cell_type": "code",
      "source": [
        "print(num_points);\n"
      ],
      "metadata": {
        "colab": {
          "base_uri": "https://localhost:8080/"
        },
        "id": "0pdsZLJKhXlP",
        "outputId": "2f287b7d-7c5e-4d2d-8dc7-8c4850080c98"
      },
      "execution_count": 2,
      "outputs": [
        {
          "output_type": "stream",
          "name": "stdout",
          "text": [
            "0\n"
          ]
        }
      ]
    },
    {
      "cell_type": "code",
      "source": [
        "num_points;"
      ],
      "metadata": {
        "id": "FUoMQ-aGhdfM"
      },
      "execution_count": 3,
      "outputs": []
    },
    {
      "cell_type": "code",
      "source": [
        "num1=20;\n",
        "num2=60;\n",
        "sum=num1+num2;\n",
        "print(sum);"
      ],
      "metadata": {
        "colab": {
          "base_uri": "https://localhost:8080/"
        },
        "id": "1l34Y6X0hohH",
        "outputId": "721eb33a-44b6-4c46-f7bf-111e771c238c"
      },
      "execution_count": 4,
      "outputs": [
        {
          "output_type": "stream",
          "name": "stdout",
          "text": [
            "80\n"
          ]
        }
      ]
    },
    {
      "cell_type": "code",
      "source": [
        "num_features=500;"
      ],
      "metadata": {
        "id": "8iFkYVtvh93H"
      },
      "execution_count": 5,
      "outputs": []
    },
    {
      "cell_type": "code",
      "source": [
        "print(type(num_features));"
      ],
      "metadata": {
        "colab": {
          "base_uri": "https://localhost:8080/"
        },
        "id": "gauWhCUriWdq",
        "outputId": "6e86c564-9067-43c3-95d5-09907333f952"
      },
      "execution_count": 6,
      "outputs": [
        {
          "output_type": "stream",
          "name": "stdout",
          "text": [
            "<class 'int'>\n"
          ]
        }
      ]
    },
    {
      "cell_type": "code",
      "source": [
        "latitude=30.3753;\n",
        "longitude=69.3451;\n",
        "print(\"latitude is :\",latitude);\n",
        "print(\"longitude is :\",longitude);\n",
        "print(type(latitude));\n",
        "print(type(longitude));"
      ],
      "metadata": {
        "colab": {
          "base_uri": "https://localhost:8080/"
        },
        "id": "apkjgYF-ieeR",
        "outputId": "c8f5688a-35d1-44fe-9ed7-0079db762b5d"
      },
      "execution_count": 7,
      "outputs": [
        {
          "output_type": "stream",
          "name": "stdout",
          "text": [
            "latitude is : 30.3753\n",
            "longitude is : 69.3451\n",
            "<class 'float'>\n",
            "<class 'float'>\n"
          ]
        }
      ]
    },
    {
      "cell_type": "code",
      "source": [
        "coardinate_system=\"WGS 1984\";\n",
        "print(coardinate_system);\n",
        "print(type(coardinate_system));"
      ],
      "metadata": {
        "colab": {
          "base_uri": "https://localhost:8080/"
        },
        "id": "KDYHl6ybnUG1",
        "outputId": "48efa1d3-f041-45ee-9173-9eeb5c447126"
      },
      "execution_count": 8,
      "outputs": [
        {
          "output_type": "stream",
          "name": "stdout",
          "text": [
            "WGS 1984\n",
            "<class 'str'>\n"
          ]
        }
      ]
    },
    {
      "cell_type": "code",
      "source": [
        "is_georefrenced=True;\n",
        "print(type(is_georefrenced));"
      ],
      "metadata": {
        "colab": {
          "base_uri": "https://localhost:8080/"
        },
        "id": "c5FeVjPKnzjp",
        "outputId": "f55bdd49-ffa4-4bcd-c75a-78a576c0acc2"
      },
      "execution_count": 9,
      "outputs": [
        {
          "output_type": "stream",
          "name": "stdout",
          "text": [
            "<class 'bool'>\n"
          ]
        }
      ]
    },
    {
      "cell_type": "code",
      "source": [
        "coardinates=[30.3753, 69.3451];"
      ],
      "metadata": {
        "id": "Ltj9RL-qoJda"
      },
      "execution_count": 10,
      "outputs": []
    },
    {
      "cell_type": "code",
      "source": [
        "feature_attributes = {\n",
        "    \"name\": \"Mount Fuji\",\n",
        "    \"height_meters\": 3776,\n",
        "    \"type\": \"Stratovolcano\",\n",
        "    \"location\": [35.3606, 138.7274],\n",
        "}"
      ],
      "metadata": {
        "id": "7CybhPDqoXtU"
      },
      "execution_count": 11,
      "outputs": []
    },
    {
      "cell_type": "code",
      "source": [
        "print(\"Hellow word!\\nThis is python scrypt.\");"
      ],
      "metadata": {
        "colab": {
          "base_uri": "https://localhost:8080/"
        },
        "id": "PxBIEwTWoj83",
        "outputId": "5f4a2ea6-94b6-40cd-ee64-b45dc3487d0f"
      },
      "execution_count": 12,
      "outputs": [
        {
          "output_type": "stream",
          "name": "stdout",
          "text": [
            "Hellow word!\n",
            "This is python scrypt.\n"
          ]
        }
      ]
    },
    {
      "cell_type": "code",
      "source": [
        "print(\"This is First Line!\\n\\tThis is Second Line. It is intend.\");"
      ],
      "metadata": {
        "colab": {
          "base_uri": "https://localhost:8080/"
        },
        "id": "3yrbk7qKo2Uo",
        "outputId": "4e0496e0-57c1-4714-a390-a04897c72bcb"
      },
      "execution_count": 13,
      "outputs": [
        {
          "output_type": "stream",
          "name": "stdout",
          "text": [
            "This is First Line!\n",
            "\tThis is Second Line. It is intend.\n"
          ]
        }
      ]
    },
    {
      "cell_type": "code",
      "source": [
        "print(\"What's your name\");"
      ],
      "metadata": {
        "colab": {
          "base_uri": "https://localhost:8080/"
        },
        "id": "WRmJgPqCpWtW",
        "outputId": "0b8115f8-7483-4b0b-86f9-0ef3fe39cf10"
      },
      "execution_count": 14,
      "outputs": [
        {
          "output_type": "stream",
          "name": "stdout",
          "text": [
            "What's your name\n"
          ]
        }
      ]
    },
    {
      "cell_type": "code",
      "source": [
        "import math\n",
        "latitude = 30.658;\n",
        "latitude_radians=math.radians(latitude);\n",
        "print(\"latitude in radians :\",latitude);"
      ],
      "metadata": {
        "colab": {
          "base_uri": "https://localhost:8080/"
        },
        "id": "MpiDmzgIp70t",
        "outputId": "6220182c-f696-4318-a094-5dfbdc2fc8d7"
      },
      "execution_count": 15,
      "outputs": [
        {
          "output_type": "stream",
          "name": "stdout",
          "text": [
            "latitude in radians : 30.658\n"
          ]
        }
      ]
    },
    {
      "cell_type": "code",
      "source": [
        "coordinates = [30.6895, 69.6917]\n",
        "coordinates.append(34.0522)  # Adding latitude of Los Angeles\n",
        "coordinates.append(-118.2437)  # Adding longitude of Los Angeles\n",
        "print(\"Updated coordinates:\", coordinates)"
      ],
      "metadata": {
        "colab": {
          "base_uri": "https://localhost:8080/"
        },
        "id": "oM0vR8hwqiZ5",
        "outputId": "6638bf04-92e8-4702-9e3b-c619f28f9132"
      },
      "execution_count": 16,
      "outputs": [
        {
          "output_type": "stream",
          "name": "stdout",
          "text": [
            "Updated coordinates: [30.6895, 69.6917, 34.0522, -118.2437]\n"
          ]
        }
      ]
    },
    {
      "cell_type": "code",
      "source": [
        "mount_fuji_name = feature_attributes[\"name\"]\n",
        "mount_fuji_height = feature_attributes[\"height_meters\"]\n",
        "print(f\"{mount_fuji_name} is {mount_fuji_height} meters high.\")"
      ],
      "metadata": {
        "colab": {
          "base_uri": "https://localhost:8080/"
        },
        "id": "JK1N-33kq50U",
        "outputId": "72edb09b-125d-4b1c-c148-93b34d7138fc"
      },
      "execution_count": 17,
      "outputs": [
        {
          "output_type": "stream",
          "name": "stdout",
          "text": [
            "Mount Fuji is 3776 meters high.\n"
          ]
        }
      ]
    },
    {
      "cell_type": "code",
      "source": [
        "points = [\n",
        "    [35.6895, 139.6917],  # Tokyo\n",
        "    [34.0522, -118.2437],  # Los Angeles\n",
        "    [51.5074, -0.1278],  # London\n",
        "    [48.8566, 2.3522],  # Paris\n",
        "]"
      ],
      "metadata": {
        "id": "cl3iG2k4q9Wu"
      },
      "execution_count": 18,
      "outputs": []
    },
    {
      "cell_type": "code",
      "source": [
        "centroid_latitude = __builtins__sum([point[0] for point in points]) / len(points)\n",
        "centroid_longitude  = sum([point[1] for point in points]) / len(points)\n",
        "centroid = [centroid_latitude, centroid_longitude]\n",
        "print(\"Centroid of the points is at:\", centroid)"
      ],
      "metadata": {
        "colab": {
          "base_uri": "https://localhost:8080/",
          "height": 203
        },
        "id": "16VqZQhArHr6",
        "outputId": "6c639403-5587-4259-bb18-d81a85366b96"
      },
      "execution_count": 21,
      "outputs": [
        {
          "output_type": "error",
          "ename": "NameError",
          "evalue": "name '__builtins__sum' is not defined",
          "traceback": [
            "\u001b[0;31m---------------------------------------------------------------------------\u001b[0m",
            "\u001b[0;31mNameError\u001b[0m                                 Traceback (most recent call last)",
            "\u001b[0;32m<ipython-input-21-c467adfe97ed>\u001b[0m in \u001b[0;36m<cell line: 0>\u001b[0;34m()\u001b[0m\n\u001b[0;32m----> 1\u001b[0;31m \u001b[0mcentroid_latitude\u001b[0m \u001b[0;34m=\u001b[0m \u001b[0m__builtins__sum\u001b[0m\u001b[0;34m(\u001b[0m\u001b[0;34m[\u001b[0m\u001b[0mpoint\u001b[0m\u001b[0;34m[\u001b[0m\u001b[0;36m0\u001b[0m\u001b[0;34m]\u001b[0m \u001b[0;32mfor\u001b[0m \u001b[0mpoint\u001b[0m \u001b[0;32min\u001b[0m \u001b[0mpoints\u001b[0m\u001b[0;34m]\u001b[0m\u001b[0;34m)\u001b[0m \u001b[0;34m/\u001b[0m \u001b[0mlen\u001b[0m\u001b[0;34m(\u001b[0m\u001b[0mpoints\u001b[0m\u001b[0;34m)\u001b[0m\u001b[0;34m\u001b[0m\u001b[0;34m\u001b[0m\u001b[0m\n\u001b[0m\u001b[1;32m      2\u001b[0m \u001b[0mcentroid_longitude\u001b[0m  \u001b[0;34m=\u001b[0m \u001b[0msum\u001b[0m\u001b[0;34m(\u001b[0m\u001b[0;34m[\u001b[0m\u001b[0mpoint\u001b[0m\u001b[0;34m[\u001b[0m\u001b[0;36m1\u001b[0m\u001b[0;34m]\u001b[0m \u001b[0;32mfor\u001b[0m \u001b[0mpoint\u001b[0m \u001b[0;32min\u001b[0m \u001b[0mpoints\u001b[0m\u001b[0;34m]\u001b[0m\u001b[0;34m)\u001b[0m \u001b[0;34m/\u001b[0m \u001b[0mlen\u001b[0m\u001b[0;34m(\u001b[0m\u001b[0mpoints\u001b[0m\u001b[0;34m)\u001b[0m\u001b[0;34m\u001b[0m\u001b[0;34m\u001b[0m\u001b[0m\n\u001b[1;32m      3\u001b[0m \u001b[0mcentroid\u001b[0m \u001b[0;34m=\u001b[0m \u001b[0;34m[\u001b[0m\u001b[0mcentroid_latitude\u001b[0m\u001b[0;34m,\u001b[0m \u001b[0mcentroid_longitude\u001b[0m\u001b[0;34m]\u001b[0m\u001b[0;34m\u001b[0m\u001b[0;34m\u001b[0m\u001b[0m\n\u001b[1;32m      4\u001b[0m \u001b[0mprint\u001b[0m\u001b[0;34m(\u001b[0m\u001b[0;34m\"Centroid of the points is at:\"\u001b[0m\u001b[0;34m,\u001b[0m \u001b[0mcentroid\u001b[0m\u001b[0;34m)\u001b[0m\u001b[0;34m\u001b[0m\u001b[0;34m\u001b[0m\u001b[0m\n",
            "\u001b[0;31mNameError\u001b[0m: name '__builtins__sum' is not defined"
          ]
        }
      ]
    },
    {
      "cell_type": "code",
      "source": [
        "city_coordinates = [\n",
        "    (40.7128, -74.0060),  # New York City, USA\n",
        "    (34.0522, -118.2437), # Los Angeles, USA\n",
        "    (51.5074, -0.1278),   # London, UK\n",
        "    (48.8566, 2.3522),    # Paris, France\n",
        "    (35.6895, 139.6917),  # Tokyo, Japan\n",
        "    (-33.8688, 151.2093), # Sydney, Australia\n",
        "    (55.7558, 37.6173),   # Moscow, Russia\n",
        "    (-22.9068, -43.1729), # Rio de Janeiro, Brazil\n",
        "    (37.7749, -122.4194), # San Francisco, USA\n",
        "    (52.5200, 13.4050)    # Berlin, Germany\n",
        "]"
      ],
      "metadata": {
        "id": "eZjlRId6rLQy"
      },
      "execution_count": 20,
      "outputs": []
    },
    {
      "source": [
        "# Calculate the centroid, using the built-in sum function by refering to __builtins__.sum\n",
        "centroid_latitude = __builtins__.sum([point[0] for point in points]) / len(points)\n",
        "centroid_longitude  = __builtins__.sum([point[1] for point in points]) / len(points)\n",
        "centroid = [centroid_latitude, centroid_longitude]\n",
        "print(\"Centroid of the points is at:\", centroid)"
      ],
      "cell_type": "code",
      "metadata": {
        "colab": {
          "base_uri": "https://localhost:8080/"
        },
        "id": "aPXZokaiJKyQ",
        "outputId": "73a49848-a135-49bc-a2ba-ce64f2f127ea"
      },
      "execution_count": 22,
      "outputs": [
        {
          "output_type": "stream",
          "name": "stdout",
          "text": [
            "Centroid of the points is at: [42.526425, 5.918099999999998]\n"
          ]
        }
      ]
    },
    {
      "cell_type": "code",
      "source": [
        "# List of city coordinates (latitude, longitude)\n",
        "city_coordinates = [\n",
        "    (40.7128, -74.0060),  # New York City, USA\n",
        "    (34.0522, -118.2437), # Los Angeles, USA\n",
        "    (51.5074, -0.1278),   # London, UK\n",
        "    (48.8566, 2.3522),    # Paris, France\n",
        "    (35.6895, 139.6917),  # Tokyo, Japan\n",
        "    (-33.8688, 151.2093), # Sydney, Australia\n",
        "    (55.7558, 37.6173),   # Moscow, Russia\n",
        "    (-22.9068, -43.1729), # Rio de Janeiro, Brazil\n",
        "    (37.7749, -122.4194), # San Francisco, USA\n",
        "    (52.5200, 13.4050)    # Berlin, Germany\n",
        "]\n",
        "\n",
        "# Calculate the centroid\n",
        "num_coordinates = len(city_coordinates)\n",
        "centroid_lat = __builtins__sum(coord[0] for coord in city_coordinates) / num_coordinates\n",
        "centroid_lon = __builtins__sum(coord[1] for coord in city_coordinates) / num_coordinates\n",
        "\n",
        "# Print the centroid\n",
        "print(f\"Centroid (Latitude, Longitude): ({centroid_lat:.6f}, {centroid_lon:.6f})\")"
      ],
      "metadata": {
        "colab": {
          "base_uri": "https://localhost:8080/",
          "height": 222
        },
        "id": "y-VPx7zpsOw9",
        "outputId": "84b994ab-e597-425e-db58-a341597c3151"
      },
      "execution_count": 24,
      "outputs": [
        {
          "output_type": "error",
          "ename": "NameError",
          "evalue": "name '__builtins__sum' is not defined",
          "traceback": [
            "\u001b[0;31m---------------------------------------------------------------------------\u001b[0m",
            "\u001b[0;31mNameError\u001b[0m                                 Traceback (most recent call last)",
            "\u001b[0;32m<ipython-input-24-db11b630ba5c>\u001b[0m in \u001b[0;36m<cell line: 0>\u001b[0;34m()\u001b[0m\n\u001b[1;32m     15\u001b[0m \u001b[0;31m# Calculate the centroid\u001b[0m\u001b[0;34m\u001b[0m\u001b[0;34m\u001b[0m\u001b[0m\n\u001b[1;32m     16\u001b[0m \u001b[0mnum_coordinates\u001b[0m \u001b[0;34m=\u001b[0m \u001b[0mlen\u001b[0m\u001b[0;34m(\u001b[0m\u001b[0mcity_coordinates\u001b[0m\u001b[0;34m)\u001b[0m\u001b[0;34m\u001b[0m\u001b[0;34m\u001b[0m\u001b[0m\n\u001b[0;32m---> 17\u001b[0;31m \u001b[0mcentroid_lat\u001b[0m \u001b[0;34m=\u001b[0m \u001b[0m__builtins__sum\u001b[0m\u001b[0;34m(\u001b[0m\u001b[0mcoord\u001b[0m\u001b[0;34m[\u001b[0m\u001b[0;36m0\u001b[0m\u001b[0;34m]\u001b[0m \u001b[0;32mfor\u001b[0m \u001b[0mcoord\u001b[0m \u001b[0;32min\u001b[0m \u001b[0mcity_coordinates\u001b[0m\u001b[0;34m)\u001b[0m \u001b[0;34m/\u001b[0m \u001b[0mnum_coordinates\u001b[0m\u001b[0;34m\u001b[0m\u001b[0;34m\u001b[0m\u001b[0m\n\u001b[0m\u001b[1;32m     18\u001b[0m \u001b[0mcentroid_lon\u001b[0m \u001b[0;34m=\u001b[0m \u001b[0m__builtins__sum\u001b[0m\u001b[0;34m(\u001b[0m\u001b[0mcoord\u001b[0m\u001b[0;34m[\u001b[0m\u001b[0;36m1\u001b[0m\u001b[0;34m]\u001b[0m \u001b[0;32mfor\u001b[0m \u001b[0mcoord\u001b[0m \u001b[0;32min\u001b[0m \u001b[0mcity_coordinates\u001b[0m\u001b[0;34m)\u001b[0m \u001b[0;34m/\u001b[0m \u001b[0mnum_coordinates\u001b[0m\u001b[0;34m\u001b[0m\u001b[0;34m\u001b[0m\u001b[0m\n\u001b[1;32m     19\u001b[0m \u001b[0;34m\u001b[0m\u001b[0m\n",
            "\u001b[0;31mNameError\u001b[0m: name '__builtins__sum' is not defined"
          ]
        }
      ]
    },
    {
      "source": [
        "# List of city coordinates (latitude, longitude)\n",
        "city_coordinates = [\n",
        "    (40.7128, -74.0060),  # New York City, USA\n",
        "    (34.0522, -118.2437), # Los Angeles, USA\n",
        "    (51.5074, -0.1278),   # London, UK\n",
        "    (48.8566, 2.3522),    # Paris, France\n",
        "    (35.6895, 139.6917),  # Tokyo, Japan\n",
        "    (-33.8688, 151.2093), # Sydney, Australia\n",
        "    (55.7558, 37.6173),   # Moscow, Russia\n",
        "    (-22.9068, -43.1729), # Rio de Janeiro, Brazil\n",
        "    (37.7749, -122.4194), # San Francisco, USA\n",
        "    (52.5200, 13.4050)    # Berlin, Germany\n",
        "]\n",
        "\n",
        "# Calculate the centroid, using the built-in sum function directly\n",
        "num_coordinates = len(city_coordinates)\n",
        "centroid_lat = sum(coord[0] for coord in city_coordinates) / num_coordinates  # Changed __builtins__sum to sum\n",
        "centroid_lon = sum(coord[1] for coord in city_coordinates) / num_coordinates  # Changed __builtins__sum to sum\n",
        "\n",
        "# Print the centroid\n",
        "print(f\"Centroid (Latitude, Longitude): ({centroid_lat:.6f}, {centroid_lon:.6f})\")"
      ],
      "cell_type": "code",
      "metadata": {
        "colab": {
          "base_uri": "https://localhost:8080/",
          "height": 258
        },
        "id": "6ILGiZvaJgkJ",
        "outputId": "ce832ec2-3e73-4746-ea4d-393056417726"
      },
      "execution_count": 25,
      "outputs": [
        {
          "output_type": "error",
          "ename": "TypeError",
          "evalue": "'int' object is not callable",
          "traceback": [
            "\u001b[0;31m---------------------------------------------------------------------------\u001b[0m",
            "\u001b[0;31mTypeError\u001b[0m                                 Traceback (most recent call last)",
            "\u001b[0;32m<ipython-input-25-bc945eed3669>\u001b[0m in \u001b[0;36m<cell line: 0>\u001b[0;34m()\u001b[0m\n\u001b[1;32m     15\u001b[0m \u001b[0;31m# Calculate the centroid, using the built-in sum function directly\u001b[0m\u001b[0;34m\u001b[0m\u001b[0;34m\u001b[0m\u001b[0m\n\u001b[1;32m     16\u001b[0m \u001b[0mnum_coordinates\u001b[0m \u001b[0;34m=\u001b[0m \u001b[0mlen\u001b[0m\u001b[0;34m(\u001b[0m\u001b[0mcity_coordinates\u001b[0m\u001b[0;34m)\u001b[0m\u001b[0;34m\u001b[0m\u001b[0;34m\u001b[0m\u001b[0m\n\u001b[0;32m---> 17\u001b[0;31m \u001b[0mcentroid_lat\u001b[0m \u001b[0;34m=\u001b[0m \u001b[0msum\u001b[0m\u001b[0;34m(\u001b[0m\u001b[0mcoord\u001b[0m\u001b[0;34m[\u001b[0m\u001b[0;36m0\u001b[0m\u001b[0;34m]\u001b[0m \u001b[0;32mfor\u001b[0m \u001b[0mcoord\u001b[0m \u001b[0;32min\u001b[0m \u001b[0mcity_coordinates\u001b[0m\u001b[0;34m)\u001b[0m \u001b[0;34m/\u001b[0m \u001b[0mnum_coordinates\u001b[0m  \u001b[0;31m# Changed __builtins__sum to sum\u001b[0m\u001b[0;34m\u001b[0m\u001b[0;34m\u001b[0m\u001b[0m\n\u001b[0m\u001b[1;32m     18\u001b[0m \u001b[0mcentroid_lon\u001b[0m \u001b[0;34m=\u001b[0m \u001b[0msum\u001b[0m\u001b[0;34m(\u001b[0m\u001b[0mcoord\u001b[0m\u001b[0;34m[\u001b[0m\u001b[0;36m1\u001b[0m\u001b[0;34m]\u001b[0m \u001b[0;32mfor\u001b[0m \u001b[0mcoord\u001b[0m \u001b[0;32min\u001b[0m \u001b[0mcity_coordinates\u001b[0m\u001b[0;34m)\u001b[0m \u001b[0;34m/\u001b[0m \u001b[0mnum_coordinates\u001b[0m  \u001b[0;31m# Changed __builtins__sum to sum\u001b[0m\u001b[0;34m\u001b[0m\u001b[0;34m\u001b[0m\u001b[0m\n\u001b[1;32m     19\u001b[0m \u001b[0;34m\u001b[0m\u001b[0m\n",
            "\u001b[0;31mTypeError\u001b[0m: 'int' object is not callable"
          ]
        }
      ]
    },
    {
      "source": [
        "# List of city coordinates (latitude, longitude)\n",
        "city_coordinates = [\n",
        "    (40.7128, -74.0060),  # New York City, USA\n",
        "    (34.0522, -118.2437), # Los Angeles, USA\n",
        "    (51.5074, -0.1278),   # London, UK\n",
        "    (48.8566, 2.3522),    # Paris, France\n",
        "    (35.6895, 139.6917),  # Tokyo, Japan\n",
        "    (-33.8688, 151.2093), # Sydney, Australia\n",
        "    (55.7558, 37.6173),   # Moscow, Russia\n",
        "    (-22.9068, -43.1729), # Rio de Janeiro, Brazil\n",
        "    (37.7749, -122.4194), # San Francisco, USA\n",
        "    (52.5200, 13.4050)    # Berlin, Germany\n",
        "]\n",
        "\n",
        "# Calculate the centroid, using the built-in sum function directly\n",
        "num_coordinates = len(city_coordinates)\n",
        "# Use the built-in sum function by refering to __builtins__.sum\n",
        "centroid_lat = __builtins__.sum(coord[0] for coord in city_coordinates) / num_coordinates\n",
        "centroid_lon = __builtins__.sum(coord[1] for coord in city_coordinates) / num_coordinates\n",
        "\n",
        "# Print the centroid\n",
        "print(f\"Centroid (Latitude, Longitude): ({centroid_lat:.6f}, {centroid_lon:.6f})\")"
      ],
      "cell_type": "code",
      "metadata": {
        "colab": {
          "base_uri": "https://localhost:8080/"
        },
        "id": "5zBJbIlbJwhx",
        "outputId": "d2eae562-729a-4dd9-fe24-ec970a1033c4"
      },
      "execution_count": 26,
      "outputs": [
        {
          "output_type": "stream",
          "name": "stdout",
          "text": [
            "Centroid (Latitude, Longitude): (30.009360, -1.369430)\n"
          ]
        }
      ]
    },
    {
      "cell_type": "code",
      "source": [],
      "metadata": {
        "id": "zTbHOmCYseFJ"
      },
      "execution_count": null,
      "outputs": []
    },
    {
      "source": [
        "# List of city coordinates (latitude, longitude)\n",
        "city_coordinates = [\n",
        "    (40.7128, -74.0060),  # New York City, USA\n",
        "    (34.0522, -118.2437), # Los Angeles, USA\n",
        "    (51.5074, -0.1278),   # London, UK\n",
        "    (48.8566, 2.3522),    # Paris, France\n",
        "    (35.6895, 139.6917),  # Tokyo, Japan\n",
        "    (-33.8688, 151.2093), # Sydney, Australia\n",
        "    (55.7558, 37.6173),   # Moscow, Russia\n",
        "    (-22.9068, -43.1729), # Rio de Janeiro, Brazil\n",
        "    (37.7749, -122.4194), # San Francisco, USA\n",
        "    (52.5200, 13.4050)    # Berlin, Germany\n",
        "]\n",
        "\n",
        "# Calculate the centroid, using the built-in sum function directly\n",
        "num_coordinates = len(city_coordinates)\n",
        "centroid_lat = __builtins__.sum(coord[0] for coord in city_coordinates) / num_coordinates\n",
        "centroid_lon = __builtins__.sum(coord[1] for coord in city_coordinates) / num_coordinates\n",
        "\n",
        "# Store the centroid's latitude and longitude in a dictionary\n",
        "centroid = {\n",
        "    \"latitude\": centroid_lat,\n",
        "    \"longitude\": centroid_lon\n",
        "}\n",
        "\n",
        "# Print the centroid\n",
        "print(f\"Centroid: {centroid}\")"
      ],
      "cell_type": "code",
      "metadata": {
        "colab": {
          "base_uri": "https://localhost:8080/"
        },
        "id": "1U5CWmTkKGMa",
        "outputId": "ae5b0d9e-d86e-4141-f2ba-8c36e2773101"
      },
      "execution_count": 27,
      "outputs": [
        {
          "output_type": "stream",
          "name": "stdout",
          "text": [
            "Centroid: {'latitude': 30.009360000000004, 'longitude': -1.36943}\n"
          ]
        }
      ]
    },
    {
      "cell_type": "code",
      "source": [],
      "metadata": {
        "id": "E1iOMidrKGru"
      },
      "execution_count": null,
      "outputs": []
    }
  ]
}